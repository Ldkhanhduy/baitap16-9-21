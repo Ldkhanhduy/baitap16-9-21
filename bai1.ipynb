{
  "nbformat": 4,
  "nbformat_minor": 0,
  "metadata": {
    "colab": {
      "name": "bai1.ipynb",
      "provenance": [],
      "authorship_tag": "ABX9TyOZhcJYwxLxqvP4ANTYfBsw",
      "include_colab_link": true
    },
    "kernelspec": {
      "name": "python3",
      "display_name": "Python 3"
    },
    "language_info": {
      "name": "python"
    }
  },
  "cells": [
    {
      "cell_type": "markdown",
      "metadata": {
        "id": "view-in-github",
        "colab_type": "text"
      },
      "source": [
        "<a href=\"https://colab.research.google.com/github/Ldkhanhduy/baitap16-9-21/blob/main/bai1.ipynb\" target=\"_parent\"><img src=\"https://colab.research.google.com/assets/colab-badge.svg\" alt=\"Open In Colab\"/></a>"
      ]
    },
    {
      "cell_type": "code",
      "metadata": {
        "colab": {
          "base_uri": "https://localhost:8080/"
        },
        "id": "mjLghIV0WnnO",
        "outputId": "32612e1b-c930-47c9-a2f4-49b816fe850b"
      },
      "source": [
        "x=float(input(\"So tien vay: \"))\n",
        "y=float(input(\"Phan tram lai: \"))\n",
        "z=float(input(\"So nam vay: \"))\n",
        "y=y/100\n",
        "C=x*y/(1-1/(1+y)**(z*12))\n",
        "T=C*12*z\n",
        "print(\"So tien phai tra trong 1 thang la: \", C)\n",
        "print(\"Tuc \", T, \"trong \", z, \"nam\")"
      ],
      "execution_count": 3,
      "outputs": [
        {
          "output_type": "stream",
          "name": "stdout",
          "text": [
            "So tien vay: 2000000\n",
            "Phan tram lai: 10\n",
            "So nam vay: 5\n",
            "So tien phai tra trong 1 thang la:  200659.01845100816\n",
            "Tuc  12039541.10706049 trong  5.0 nam\n"
          ]
        }
      ]
    },
    {
      "cell_type": "code",
      "metadata": {
        "id": "6vSj819_YAuS"
      },
      "source": [
        ""
      ],
      "execution_count": null,
      "outputs": []
    }
  ]
}