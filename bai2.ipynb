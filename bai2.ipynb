{
  "nbformat": 4,
  "nbformat_minor": 0,
  "metadata": {
    "colab": {
      "name": "bai2.ipynb",
      "provenance": [],
      "authorship_tag": "ABX9TyNJP4563JgsMELzWknb3LSp",
      "include_colab_link": true
    },
    "kernelspec": {
      "name": "python3",
      "display_name": "Python 3"
    },
    "language_info": {
      "name": "python"
    }
  },
  "cells": [
    {
      "cell_type": "markdown",
      "metadata": {
        "id": "view-in-github",
        "colab_type": "text"
      },
      "source": [
        "<a href=\"https://colab.research.google.com/github/Ldkhanhduy/baitap16-9-21/blob/main/bai2.ipynb\" target=\"_parent\"><img src=\"https://colab.research.google.com/assets/colab-badge.svg\" alt=\"Open In Colab\"/></a>"
      ]
    },
    {
      "cell_type": "code",
      "metadata": {
        "colab": {
          "base_uri": "https://localhost:8080/"
        },
        "id": "zsxCaBpHZjHS",
        "outputId": "4cd636da-3104-4ee1-b64f-69df3af7b69d"
      },
      "source": [
        "x1=float(input(\"hoanh do x1: \"))\n",
        "y1=float(input(\"tung do y1: \"))\n",
        "x2=float(input(\"hoanh do x2: \"))\n",
        "y2=float(input(\"tung do y2: \"))\n",
        "T=((x2-x1)**2+(y2-y1)**2)**(1/2)\n",
        "print(\"khoanh cach giua hai diem la: \", T)"
      ],
      "execution_count": 1,
      "outputs": [
        {
          "output_type": "stream",
          "name": "stdout",
          "text": [
            "hoanh do x1: 1\n",
            "tung do y1: 2\n",
            "hoanh do x2: 5\n",
            "tung do y2: 5\n",
            "khoanh cach giua hai diem la:  5.0\n"
          ]
        }
      ]
    }
  ]
}